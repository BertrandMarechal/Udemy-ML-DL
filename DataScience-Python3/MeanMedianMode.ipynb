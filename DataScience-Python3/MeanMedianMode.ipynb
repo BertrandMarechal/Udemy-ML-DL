{
 "cells": [
  {
   "cell_type": "markdown",
   "metadata": {
    "deletable": true,
    "editable": true
   },
   "source": [
    "# Mean, Median, Mode, and introducing NumPy"
   ]
  },
  {
   "cell_type": "markdown",
   "metadata": {
    "deletable": true,
    "editable": true
   },
   "source": [
    "## Mean vs. Median"
   ]
  },
  {
   "cell_type": "markdown",
   "metadata": {
    "deletable": true,
    "editable": true
   },
   "source": [
    "Let's create some fake income data, centered around 27,000 with a normal distribution and standard deviation of 15,000, with 10,000 data points. (We'll discuss those terms more later, if you're not familiar with them.)\n",
    "\n",
    "Then, compute the mean (average) - it should be close to 27,000:"
   ]
  },
  {
   "cell_type": "code",
   "execution_count": 1,
   "metadata": {
    "collapsed": false,
    "deletable": true,
    "editable": true
   },
   "outputs": [
    {
     "data": {
      "text/plain": [
       "26993.237889369815"
      ]
     },
     "execution_count": 1,
     "metadata": {},
     "output_type": "execute_result"
    }
   ],
   "source": [
    "import numpy as np\n",
    "\n",
    "incomes = np.random.normal(27000, 15000, 10000)\n",
    "np.mean(incomes)"
   ]
  },
  {
   "cell_type": "markdown",
   "metadata": {
    "deletable": true,
    "editable": true
   },
   "source": [
    "We can segment the income data into 50 buckets, and plot it as a histogram:"
   ]
  },
  {
   "cell_type": "code",
   "execution_count": 3,
   "metadata": {
    "collapsed": false,
    "deletable": true,
    "editable": true
   },
   "outputs": [
    {
     "data": {
      "image/png": "[encoded data removed]",
      "text/plain": [
       "<matplotlib.figure.Figure at 0x17c39e6f9b0>"
      ]
     },
     "metadata": {},
     "output_type": "display_data"
    }
   ],
   "source": [
    "%matplotlib inline\n",
    "import matplotlib.pyplot as plt\n",
    "plt.hist(incomes, 100)\n",
    "plt.show()"
   ]
  },
  {
   "cell_type": "markdown",
   "metadata": {
    "deletable": true,
    "editable": true
   },
   "source": [
    "Now compute the median - since we have a nice, even distribution it too should be close to 27,000:"
   ]
  },
  {
   "cell_type": "code",
   "execution_count": 3,
   "metadata": {
    "collapsed": false,
    "deletable": true,
    "editable": true
   },
   "outputs": [
    {
     "data": {
      "text/plain": [
       "27195.153719614136"
      ]
     },
     "execution_count": 3,
     "metadata": {},
     "output_type": "execute_result"
    }
   ],
   "source": [
    "np.median(incomes)"
   ]
  },
  {
   "cell_type": "markdown",
   "metadata": {
    "deletable": true,
    "editable": true
   },
   "source": [
    "Now we'll add Donald Trump into the mix. Darn income inequality!"
   ]
  },
  {
   "cell_type": "code",
   "execution_count": 4,
   "metadata": {
    "collapsed": false,
    "deletable": true,
    "editable": true
   },
   "outputs": [],
   "source": [
    "incomes = np.append(incomes, [1000000000])"
   ]
  },
  {
   "cell_type": "markdown",
   "metadata": {
    "deletable": true,
    "editable": true
   },
   "source": [
    "The median won't change much, but the mean does:"
   ]
  },
  {
   "cell_type": "code",
   "execution_count": 5,
   "metadata": {
    "collapsed": false,
    "deletable": true,
    "editable": true
   },
   "outputs": [
    {
     "data": {
      "text/plain": [
       "27195.884278535214"
      ]
     },
     "execution_count": 5,
     "metadata": {},
     "output_type": "execute_result"
    }
   ],
   "source": [
    "np.median(incomes)"
   ]
  },
  {
   "cell_type": "code",
   "execution_count": 6,
   "metadata": {
    "collapsed": false,
    "deletable": true,
    "editable": true
   },
   "outputs": [
    {
     "data": {
      "text/plain": [
       "126993.93098257863"
      ]
     },
     "execution_count": 6,
     "metadata": {},
     "output_type": "execute_result"
    }
   ],
   "source": [
    "np.mean(incomes)"
   ]
  },
  {
   "cell_type": "markdown",
   "metadata": {
    "deletable": true,
    "editable": true
   },
   "source": [
    "## Mode"
   ]
  },
  {
   "cell_type": "markdown",
   "metadata": {
    "deletable": true,
    "editable": true
   },
   "source": [
    "Next, let's generate some fake age data for 500 people:"
   ]
  },
  {
   "cell_type": "code",
   "execution_count": 4,
   "metadata": {
    "collapsed": false,
    "deletable": true,
    "editable": true
   },
   "outputs": [
    {
     "data": {
      "text/plain": [
       "array([82, 45, 28, 43, 88, 68, 48, 52, 25, 52, 26, 67, 81, 52, 55, 85, 45,\n",
       "       34, 42, 72, 57, 73, 22, 86, 20, 41, 27, 60, 78, 61, 70, 76, 79, 47,\n",
       "       67, 85, 27, 32, 70, 32, 28, 36, 38, 65, 88, 49, 34, 57, 35, 79, 71,\n",
       "       42, 60, 37, 62, 49, 25, 61, 59, 41, 26, 46, 68, 19, 18, 54, 18, 65,\n",
       "       72, 23, 59, 81, 79, 31, 62, 80, 19, 75, 51, 78, 43, 40, 73, 52, 40,\n",
       "       60, 45, 28, 72, 78, 82, 81, 36, 79, 55, 20, 32, 78, 51, 58, 69, 71,\n",
       "       37, 22, 82, 37, 52, 46, 75, 62, 84, 49, 40, 82, 57, 61, 85, 83, 82,\n",
       "       84, 68, 64, 45, 44, 20, 68, 70, 67, 32, 49, 78, 61, 22, 18, 49, 23,\n",
       "       45, 27, 22, 52, 85, 53, 72, 72, 26, 65, 77, 51, 66, 18, 64, 64, 29,\n",
       "       47, 81, 61, 37, 65, 70, 53, 68, 35, 61, 42, 46, 44, 53, 24, 29, 53,\n",
       "       77, 45, 49, 80, 52, 55, 40, 56, 39, 33, 61, 69, 88, 74, 24, 84, 50,\n",
       "       85, 72, 52, 77, 51, 47, 60, 62, 80, 35, 46, 82, 54, 79, 87, 65, 27,\n",
       "       69, 52, 23, 87, 30, 56, 54, 57, 85, 44, 57, 53, 55, 28, 19, 73, 37,\n",
       "       80, 60, 46, 52, 89, 77, 84, 43, 20, 23, 41, 71, 64, 39, 72, 34, 62,\n",
       "       43, 69, 31, 30, 72, 69, 48, 59, 84, 74, 33, 31, 56, 75, 81, 42, 88,\n",
       "       28, 78, 59, 25, 35, 54, 57, 66, 86, 19, 51, 34, 21, 58, 69, 49, 67,\n",
       "       24, 61, 81, 20, 76, 68, 58, 59, 78, 19, 50, 29, 81, 19, 50, 20, 50,\n",
       "       37, 41, 46, 19, 41, 43, 21, 30, 28, 57, 85, 68, 74, 41, 19, 52, 57,\n",
       "       67, 83, 89, 63, 81, 33, 73, 64, 58, 46, 77, 28, 72, 55, 63, 66, 36,\n",
       "       83, 56, 89, 30, 23, 57, 77, 86, 76, 63, 40, 55, 79, 20, 52, 88, 37,\n",
       "       87, 57, 24, 61, 32, 75, 61, 62, 76, 27, 19, 73, 19, 84, 62, 81, 56,\n",
       "       29, 87, 29, 73, 48, 83, 25, 25, 50, 42, 42, 32, 18, 86, 56, 23, 62,\n",
       "       79, 79, 30, 77, 87, 43, 74, 85, 73, 74, 87, 53, 77, 70, 35, 55, 46,\n",
       "       36, 84, 82, 26, 89, 81, 73, 55, 81, 34, 44, 46, 55, 43, 78, 59, 63,\n",
       "       27, 53, 72, 47, 40, 77, 22, 80, 42, 23, 63, 49, 41, 72, 49, 83, 43,\n",
       "       35, 28, 86, 56, 66, 48, 41, 84, 51, 29, 70, 20, 61, 26, 38, 38, 63,\n",
       "       35, 60, 39, 27, 65, 43, 80, 42, 33, 79, 86, 84, 55, 58, 35, 31, 41,\n",
       "       30, 81, 36, 33, 65, 83, 37, 76, 19, 18, 63, 54, 30, 55, 56, 40, 85,\n",
       "       70, 48, 49, 45, 30, 71, 61, 31, 66, 49, 18, 84, 20, 37, 77, 27, 32,\n",
       "       35, 26, 49, 66, 55, 32, 88])"
      ]
     },
     "execution_count": 4,
     "metadata": {},
     "output_type": "execute_result"
    }
   ],
   "source": [
    "ages = np.random.randint(18, high=90, size=500)\n",
    "ages"
   ]
  },
  {
   "cell_type": "code",
   "execution_count": 5,
   "metadata": {
    "collapsed": false,
    "deletable": true,
    "editable": true
   },
   "outputs": [
    {
     "data": {
      "text/plain": [
       "ModeResult(mode=array([49]), count=array([12]))"
      ]
     },
     "execution_count": 5,
     "metadata": {},
     "output_type": "execute_result"
    }
   ],
   "source": [
    "from scipy import stats\n",
    "stats.mode(ages)"
   ]
  },
  {
   "cell_type": "code",
   "execution_count": null,
   "metadata": {
    "collapsed": false,
    "deletable": true,
    "editable": true
   },
   "outputs": [],
   "source": []
  }
 ],
 "metadata": {
  "kernelspec": {
   "display_name": "Python 3",
   "language": "python",
   "name": "python3"
  },
  "language_info": {
   "codemirror_mode": {
    "name": "ipython",
    "version": 3
   },
   "file_extension": ".py",
   "mimetype": "text/x-python",
   "name": "python",
   "nbconvert_exporter": "python",
   "pygments_lexer": "ipython3",
   "version": "3.5.2"
  }
 },
 "nbformat": 4,
 "nbformat_minor": 0
}
